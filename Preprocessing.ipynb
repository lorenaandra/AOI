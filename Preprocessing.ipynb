{
 "cells": [
  {
   "cell_type": "markdown",
   "id": "39dd1c19",
   "metadata": {},
   "source": [
    "# Area of Interest - Recommendation System"
   ]
  },
  {
   "cell_type": "code",
   "execution_count": 11,
   "id": "7a651743",
   "metadata": {},
   "outputs": [],
   "source": [
    "import os\n",
    "import re\n",
    "import ast\n",
    "import json\n",
    "import pandas as pd"
   ]
  },
  {
   "cell_type": "markdown",
   "metadata": {},
   "source": [
    "## Computer Science Research Papers Dataset"
   ]
  },
  {
   "cell_type": "code",
   "execution_count": 12,
   "metadata": {},
   "outputs": [],
   "source": [
    "cs_dataset_dir = os.path.join(os.getcwd(), \"datasets\", \"articles\", \"CS_dataset\")\n",
    "cs_dataset_oct = os.path.join(cs_dataset_dir, \"2023-10\")\n",
    "cs_dataset_nov = os.path.join(cs_dataset_dir, \"2023-11\")"
   ]
  },
  {
   "cell_type": "markdown",
   "metadata": {},
   "source": [
    "### Octomber & November dataset"
   ]
  },
  {
   "cell_type": "code",
   "execution_count": 13,
   "metadata": {},
   "outputs": [
    {
     "name": "stdout",
     "output_type": "stream",
     "text": [
      "DataFrame for October:\n",
      "   Unnamed: 0                id  \\\n",
      "0           0  arXiv:2310.03744   \n",
      "1           1  arXiv:2310.03743   \n",
      "2           2  arXiv:2310.03742   \n",
      "3           3  arXiv:2310.03740   \n",
      "4           4  arXiv:2310.03739   \n",
      "\n",
      "                                               title  \\\n",
      "0  Improved Baselines with Visual Instruction Tun...   \n",
      "1  The Un-Kidnappable Robot: Acoustic Localizatio...   \n",
      "2  A High-Performance Design, Implementation, Dep...   \n",
      "3  ContactGen: Generative Contact Modeling for Gr...   \n",
      "4  Aligning Text-to-Image Diffusion Models with R...   \n",
      "\n",
      "                    title_zh  \\\n",
      "0              通过可视化指令调整改进基线   \n",
      "1          不可绑架的机器人：偷窥者的声学定位   \n",
      "2  Slim Fly网络的高性能设计、实现、部署和评估   \n",
      "3   ContactGen：用于抓取生成的生成接触建模   \n",
      "4       使用奖励反向传播对齐文本到图像的扩散模型   \n",
      "\n",
      "                                             authors  \\\n",
      "0  \\nAuthors:\\nHaotian Liu, \\n\\nChunyuan Li, \\n\\n...   \n",
      "1  \\nAuthors:\\nMengyu Yang, \\n\\nPatrick Grady, \\n...   \n",
      "2  \\nAuthors:\\nNils Blach, \\n\\nMaciej Besta, \\n\\n...   \n",
      "3  \\nAuthors:\\nShaowei Liu, \\n\\nYang Zhou, \\n\\nJi...   \n",
      "4  \\nAuthors:\\nMihir Prabhudesai, \\n\\nAnirudh Goy...   \n",
      "\n",
      "                                    url  \\\n",
      "0  https://arxiv.org/pdf/2310.03744.pdf   \n",
      "1  https://arxiv.org/pdf/2310.03743.pdf   \n",
      "2  https://arxiv.org/pdf/2310.03742.pdf   \n",
      "3  https://arxiv.org/pdf/2310.03740.pdf   \n",
      "4  https://arxiv.org/pdf/2310.03739.pdf   \n",
      "\n",
      "                                            subjects  \\\n",
      "0  \\nSubjects: Computer Vision and Pattern Recogn...   \n",
      "1  \\nSubjects: Robotics (cs.RO); Machine Learning...   \n",
      "2  \\nSubjects: Networking and Internet Architectu...   \n",
      "3  \\nSubjects: Computer Vision and Pattern Recogn...   \n",
      "4  \\nSubjects: Computer Vision and Pattern Recogn...   \n",
      "\n",
      "                                       subject_split  \n",
      "0  ['Computer Vision and Pattern Recognition (cs....  \n",
      "1   ['Robotics (cs.RO)', 'Machine Learning (cs.LG)']  \n",
      "2   ['Networking and Internet Architecture (cs.NI)']  \n",
      "3  ['Computer Vision and Pattern Recognition (cs....  \n",
      "4  ['Computer Vision and Pattern Recognition (cs....  \n",
      "**********************************************************************\n",
      "\n",
      "DataFrame for November:\n",
      "   Unnamed: 0                id  \\\n",
      "0           0  arXiv:2310.17945   \n",
      "1           1  arXiv:2310.17944   \n",
      "2           2  arXiv:2310.17943   \n",
      "3           3  arXiv:2310.17942   \n",
      "4           4  arXiv:2310.17940   \n",
      "\n",
      "                                               title  \\\n",
      "0  A Comprehensive and Reliable Feature Attributi...   \n",
      "1    Trustworthy Edge Machine Learning: A Survey\\n\\n   \n",
      "2  Low-Complexity and Information-Theoretic Optim...   \n",
      "3  Diversifying Spatial-Temporal Perception for V...   \n",
      "4  Unified Segment-to-Segment Framework for Simul...   \n",
      "\n",
      "                       title_zh  \\\n",
      "0  一种全面可靠的特征归因方法：双侧去除与重构（DoRaR）   \n",
      "1              值得信赖的边缘机器学习：一项调查   \n",
      "2      编码广义MIMO的低复杂度信息论最优存储器AMP   \n",
      "3              用于视频领域泛化的多样化时空感知   \n",
      "4            用于同时序列生成的统一分段到分段框架   \n",
      "\n",
      "                                             authors  \\\n",
      "0  \\nAuthors:\\nDong Qin, \\n\\nGeorge Amariucai, \\n...   \n",
      "1  \\nAuthors:\\nXiaojie Wang, \\n\\nBeibei Wang, \\n\\...   \n",
      "2  \\nAuthors:\\nYufei Chen, \\n\\nLei Liu, \\n\\nYuhao...   \n",
      "3  \\nAuthors:\\nKun-Yu Lin, \\n\\nJia-Run Du, \\n\\nYi...   \n",
      "4         \\nAuthors:\\nShaolei Zhang, \\n\\nYang Feng\\n   \n",
      "\n",
      "                                    url  \\\n",
      "0  https://arxiv.org/pdf/2310.17945.pdf   \n",
      "1  https://arxiv.org/pdf/2310.17944.pdf   \n",
      "2  https://arxiv.org/pdf/2310.17943.pdf   \n",
      "3  https://arxiv.org/pdf/2310.17942.pdf   \n",
      "4  https://arxiv.org/pdf/2310.17940.pdf   \n",
      "\n",
      "                                            subjects  \\\n",
      "0  \\nSubjects: Machine Learning (cs.LG); Artifici...   \n",
      "1             \\nSubjects: Machine Learning (cs.LG)\\n   \n",
      "2           \\nSubjects: Information Theory (cs.IT)\\n   \n",
      "3  \\nSubjects: Computer Vision and Pattern Recogn...   \n",
      "4  \\nSubjects: Computation and Language (cs.CL); ...   \n",
      "\n",
      "                                       subject_split  \n",
      "0  ['Machine Learning (cs.LG)', 'Artificial Intel...  \n",
      "1                       ['Machine Learning (cs.LG)']  \n",
      "2                     ['Information Theory (cs.IT)']  \n",
      "3  ['Computer Vision and Pattern Recognition (cs....  \n",
      "4  ['Computation and Language (cs.CL)', 'Artifici...  \n"
     ]
    }
   ],
   "source": [
    "df_oct = pd.DataFrame()\n",
    "df_nov = pd.DataFrame()\n",
    "\n",
    "# read each excel file from the directory and append to the correct dataframe\n",
    "def read_and_concat(directory):\n",
    "    # individual dataframes\n",
    "    frames = []\n",
    "    for file in os.listdir(directory):\n",
    "        if file.endswith(\".xls\") or file.endswith(\".xlsx\"):\n",
    "            file_path = os.path.join(directory, file)\n",
    "            temp_df = pd.read_excel(file_path)\n",
    "            frames.append(temp_df)\n",
    "    if frames:\n",
    "        return pd.concat(frames, ignore_index=True)\n",
    "    else:\n",
    "        return pd.DataFrame()\n",
    "\n",
    "# read and concatenate files for October\n",
    "df_oct = read_and_concat(cs_dataset_oct)\n",
    "\n",
    "# read and concatenate files for November\n",
    "df_nov = read_and_concat(cs_dataset_nov)\n",
    "\n",
    "\n",
    "# display the first few rows of the DataFrames\n",
    "print(\"DataFrame for October:\")\n",
    "print(df_oct.head())\n",
    "\n",
    "print('*' * 70)\n",
    "\n",
    "print(\"\\nDataFrame for November:\")\n",
    "print(df_nov.head())\n"
   ]
  },
  {
   "cell_type": "markdown",
   "metadata": {},
   "source": [
    "### DataFrames Visualization"
   ]
  },
  {
   "cell_type": "code",
   "execution_count": 14,
   "metadata": {},
   "outputs": [
    {
     "name": "stdout",
     "output_type": "stream",
     "text": [
      "<class 'pandas.core.frame.DataFrame'>\n",
      "RangeIndex: 9429 entries, 0 to 9428\n",
      "Data columns (total 8 columns):\n",
      " #   Column         Non-Null Count  Dtype \n",
      "---  ------         --------------  ----- \n",
      " 0   Unnamed: 0     9429 non-null   int64 \n",
      " 1   id             9429 non-null   object\n",
      " 2   title          9429 non-null   object\n",
      " 3   title_zh       9429 non-null   object\n",
      " 4   authors        9429 non-null   object\n",
      " 5   url            9429 non-null   object\n",
      " 6   subjects       9429 non-null   object\n",
      " 7   subject_split  9429 non-null   object\n",
      "dtypes: int64(1), object(7)\n",
      "memory usage: 589.4+ KB\n"
     ]
    }
   ],
   "source": [
    "df_oct.info()"
   ]
  },
  {
   "cell_type": "code",
   "execution_count": 15,
   "metadata": {},
   "outputs": [
    {
     "name": "stdout",
     "output_type": "stream",
     "text": [
      "<class 'pandas.core.frame.DataFrame'>\n",
      "RangeIndex: 4110 entries, 0 to 4109\n",
      "Data columns (total 8 columns):\n",
      " #   Column         Non-Null Count  Dtype \n",
      "---  ------         --------------  ----- \n",
      " 0   Unnamed: 0     4110 non-null   int64 \n",
      " 1   id             4110 non-null   object\n",
      " 2   title          4110 non-null   object\n",
      " 3   title_zh       4110 non-null   object\n",
      " 4   authors        4110 non-null   object\n",
      " 5   url            4110 non-null   object\n",
      " 6   subjects       4110 non-null   object\n",
      " 7   subject_split  4110 non-null   object\n",
      "dtypes: int64(1), object(7)\n",
      "memory usage: 257.0+ KB\n"
     ]
    }
   ],
   "source": [
    "df_nov.info()"
   ]
  },
  {
   "cell_type": "code",
   "execution_count": 16,
   "metadata": {},
   "outputs": [
    {
     "data": {
      "text/html": [
       "<div>\n",
       "<style scoped>\n",
       "    .dataframe tbody tr th:only-of-type {\n",
       "        vertical-align: middle;\n",
       "    }\n",
       "\n",
       "    .dataframe tbody tr th {\n",
       "        vertical-align: top;\n",
       "    }\n",
       "\n",
       "    .dataframe thead th {\n",
       "        text-align: right;\n",
       "    }\n",
       "</style>\n",
       "<table border=\"1\" class=\"dataframe\">\n",
       "  <thead>\n",
       "    <tr style=\"text-align: right;\">\n",
       "      <th></th>\n",
       "      <th>Unnamed: 0</th>\n",
       "      <th>id</th>\n",
       "      <th>title</th>\n",
       "      <th>title_zh</th>\n",
       "      <th>authors</th>\n",
       "      <th>url</th>\n",
       "      <th>subjects</th>\n",
       "      <th>subject_split</th>\n",
       "    </tr>\n",
       "  </thead>\n",
       "  <tbody>\n",
       "    <tr>\n",
       "      <th>0</th>\n",
       "      <td>0</td>\n",
       "      <td>arXiv:2310.03744</td>\n",
       "      <td>Improved Baselines with Visual Instruction Tun...</td>\n",
       "      <td>通过可视化指令调整改进基线</td>\n",
       "      <td>\\nAuthors:\\nHaotian Liu, \\n\\nChunyuan Li, \\n\\n...</td>\n",
       "      <td>https://arxiv.org/pdf/2310.03744.pdf</td>\n",
       "      <td>\\nSubjects: Computer Vision and Pattern Recogn...</td>\n",
       "      <td>['Computer Vision and Pattern Recognition (cs....</td>\n",
       "    </tr>\n",
       "  </tbody>\n",
       "</table>\n",
       "</div>"
      ],
      "text/plain": [
       "   Unnamed: 0                id  \\\n",
       "0           0  arXiv:2310.03744   \n",
       "\n",
       "                                               title       title_zh  \\\n",
       "0  Improved Baselines with Visual Instruction Tun...  通过可视化指令调整改进基线   \n",
       "\n",
       "                                             authors  \\\n",
       "0  \\nAuthors:\\nHaotian Liu, \\n\\nChunyuan Li, \\n\\n...   \n",
       "\n",
       "                                    url  \\\n",
       "0  https://arxiv.org/pdf/2310.03744.pdf   \n",
       "\n",
       "                                            subjects  \\\n",
       "0  \\nSubjects: Computer Vision and Pattern Recogn...   \n",
       "\n",
       "                                       subject_split  \n",
       "0  ['Computer Vision and Pattern Recognition (cs....  "
      ]
     },
     "execution_count": 16,
     "metadata": {},
     "output_type": "execute_result"
    }
   ],
   "source": [
    "df_oct.head(1)"
   ]
  },
  {
   "cell_type": "markdown",
   "metadata": {},
   "source": [
    "## Preprocess Dataset - combine and remove unused data"
   ]
  },
  {
   "cell_type": "code",
   "execution_count": 17,
   "metadata": {},
   "outputs": [],
   "source": [
    "# combine octomber + november dataset\n",
    "cs_df = pd.concat([df_oct, df_nov], ignore_index=True)\n",
    "\n",
    "# remove first column (== entry number)\n",
    "cs_df = cs_df.drop(cs_df.columns[0], axis=1)\n",
    "# remove column containing title in chinese\n",
    "cs_df = cs_df.drop('title_zh', axis=1, errors='ignore')\n",
    "# remove column containing keywords as string\n",
    "cs_df = cs_df.drop('subjects', axis=1, errors='ignore')"
   ]
  },
  {
   "cell_type": "markdown",
   "metadata": {},
   "source": [
    "#### Remove tags and split subjects"
   ]
  },
  {
   "cell_type": "code",
   "execution_count": 18,
   "metadata": {},
   "outputs": [],
   "source": [
    "def clean_subjects(title, subjects_list):\n",
    "    # get rid of duplicates\n",
    "    cleaned_subjects = set()\n",
    "    \n",
    "    for subject in subjects_list:\n",
    "        # remove tags\n",
    "        cleaned_subject = re.sub(r'\\(.*?\\)', '', subject).strip()\n",
    "        # split subject such as \"Cryptography and Security\" into two different subjects: \"Cryptography\" and \"Security\"\n",
    "        split_subjects = [s.strip() for s in re.split(r'\\band\\b|\\b & \\b', cleaned_subject, flags=re.IGNORECASE)]\n",
    "        \n",
    "        for cleaned_sub in split_subjects:\n",
    "            cleaned_subjects.add(cleaned_sub)\n",
    "\n",
    "    missed_subjects = [\"Internet of Things\", \"Blockchain\", \"Distributed Systems\", \"Communication Protocols\", \"BigData\",\n",
    "                        \"Big Data\", \"Peer-to-Peer\", \"Parallel Algorithms\", \"Genetic Algorithms\", \"Telecommunications\",\n",
    "                        \"NLP\", \"Liquid Crystal\", \"Mobile Apps\", \"Benchmark\", \"Intelligent Agent\", \"Deep Learning\", \n",
    "                        \"Cloud computing\", \"Network Security\", \"Image Processing\", \"Smart Environments\",\n",
    "                        \"Information system\", \"Cyber Physical System\", \"Edge Computing\", \"Data Science\",\n",
    "                        \"Numerical method\", \"Numerical algorithm\", \"Numerical estimation\", \"Linguistics\",\n",
    "                        \"Experimental and numerical modelling\", \"Optimization\", \"Cybersecurity\",\n",
    "                        \"Computational physics\", \"Numerical modelling\", \"Quantum mechanics\", \n",
    "                        \"Relativity\", \"Embedded Systems\", \"Operator Theory\", \"Wireless networks\",\n",
    "                        \"Automatic differentiation\", \"Mathematics\", \"Deep Neural Networks\",\n",
    "                        \"Computer networks\", \"Data Mining\", \"Text Mining\"]\n",
    "    \n",
    "    for subj in missed_subjects:\n",
    "        if subj.lower() in title.lower():\n",
    "            cleaned_subjects.add(subj)\n",
    "\n",
    "    if \"Distributed, Parallel,\" in cleaned_subjects:\n",
    "        cleaned_subjects.remove(\"Distributed, Parallel,\")\n",
    "        cleaned_subjects.add(\"Distributed Systems\")\n",
    "        cleaned_subjects.add(\"Distributed Computing\")\n",
    "        cleaned_subjects.add(\"Parallel computing\")\n",
    "\n",
    "    return list(cleaned_subjects)\n",
    "\n",
    "\n",
    "for index, article in cs_df.iterrows():\n",
    "    subjects_as_string = article['subject_split']\n",
    "    subjects_list = ast.literal_eval(subjects_as_string)\n",
    "    title = article['title']\n",
    "    \n",
    "    cleaned_subjects_list = clean_subjects(title, subjects_list)\n",
    "    # remove newlines and trailspaces\n",
    "    cs_df['title'] = cs_df['title'].apply(lambda x: x.rstrip().strip())\n",
    "\n",
    "    # update the subject list\n",
    "    cs_df.at[index, 'subject_split'] = cleaned_subjects_list\n"
   ]
  },
  {
   "cell_type": "code",
   "execution_count": 19,
   "metadata": {},
   "outputs": [
    {
     "name": "stdout",
     "output_type": "stream",
     "text": [
      "Combined DataFrame:\n",
      "                 id                                              title  \\\n",
      "0  arXiv:2310.03744  Improved Baselines with Visual Instruction Tuning   \n",
      "1  arXiv:2310.03743  The Un-Kidnappable Robot: Acoustic Localizatio...   \n",
      "2  arXiv:2310.03742  A High-Performance Design, Implementation, Dep...   \n",
      "3  arXiv:2310.03740  ContactGen: Generative Contact Modeling for Gr...   \n",
      "4  arXiv:2310.03739  Aligning Text-to-Image Diffusion Models with R...   \n",
      "\n",
      "                                             authors  \\\n",
      "0  \\nAuthors:\\nHaotian Liu, \\n\\nChunyuan Li, \\n\\n...   \n",
      "1  \\nAuthors:\\nMengyu Yang, \\n\\nPatrick Grady, \\n...   \n",
      "2  \\nAuthors:\\nNils Blach, \\n\\nMaciej Besta, \\n\\n...   \n",
      "3  \\nAuthors:\\nShaowei Liu, \\n\\nYang Zhou, \\n\\nJi...   \n",
      "4  \\nAuthors:\\nMihir Prabhudesai, \\n\\nAnirudh Goy...   \n",
      "\n",
      "                                    url  \\\n",
      "0  https://arxiv.org/pdf/2310.03744.pdf   \n",
      "1  https://arxiv.org/pdf/2310.03743.pdf   \n",
      "2  https://arxiv.org/pdf/2310.03742.pdf   \n",
      "3  https://arxiv.org/pdf/2310.03740.pdf   \n",
      "4  https://arxiv.org/pdf/2310.03739.pdf   \n",
      "\n",
      "                                       subject_split  \n",
      "0  [Computer Vision, Computation, Artificial Inte...  \n",
      "1                       [Robotics, Machine Learning]  \n",
      "2                [Networking, Internet Architecture]  \n",
      "3  [Computer Vision, Pattern Recognition, Robotic...  \n",
      "4  [Computer Vision, Robotics, Artificial Intelli...  \n"
     ]
    }
   ],
   "source": [
    "print(\"Combined DataFrame:\")\n",
    "print(cs_df.head())"
   ]
  },
  {
   "cell_type": "code",
   "execution_count": 20,
   "metadata": {},
   "outputs": [],
   "source": [
    "articles_file = os.path.join(os.getcwd(), \"datasets\", \"articles\", \"excels_CS\", \"articles.xlsx\")\n",
    "\n",
    "cs_df.to_excel(articles_file, index=False)"
   ]
  }
 ],
 "metadata": {
  "kernelspec": {
   "display_name": "Python 3 (ipykernel)",
   "language": "python",
   "name": "python3"
  },
  "language_info": {
   "codemirror_mode": {
    "name": "ipython",
    "version": 3
   },
   "file_extension": ".py",
   "mimetype": "text/x-python",
   "name": "python",
   "nbconvert_exporter": "python",
   "pygments_lexer": "ipython3",
   "version": "3.11.7"
  }
 },
 "nbformat": 4,
 "nbformat_minor": 5
}
